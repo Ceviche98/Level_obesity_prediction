{
 "cells": [
  {
   "cell_type": "code",
   "execution_count": 9,
   "metadata": {},
   "outputs": [],
   "source": [
    "from sklearn.tree import DecisionTreeRegressor\n",
    "from sklearn.model_selection import cross_val_score\n",
    "from sklearn.model_selection import GridSearchCV\n",
    "from sklearn.model_selection import train_test_split\n",
    "from sklearn.metrics import classification_report\n",
    "from sklearn.metrics import mean_squared_error\n",
    "from sklearn.base import clone\n",
    "from sklearn.tree import DecisionTreeClassifier\n",
    "from sklearn.ensemble import RandomForestClassifier\n",
    "from sklearn.metrics import confusion_matrix, classification_report \n",
    "from sklearn.metrics import accuracy_score\n",
    "from sklearn.metrics import classification_report\n",
    "from sklearn.metrics import roc_curve\n",
    "from sklearn.metrics import roc_auc_score\n",
    "import pandas as pd\n",
    "import numpy as np\n",
    "import os\n",
    "from sklearn.svm import SVC"
   ]
  },
  {
   "cell_type": "code",
   "execution_count": 3,
   "metadata": {},
   "outputs": [],
   "source": [
    "x_train=pd.read_csv(\"X_train.csv\")\n",
    "x_test=pd.read_csv(\"X_test.csv\")\n",
    "y_train=pd.read_csv(\"Y_train.csv\")\n",
    "y_test=pd.read_csv(\"Y_test.csv\")"
   ]
  },
  {
   "cell_type": "code",
   "execution_count": 4,
   "metadata": {},
   "outputs": [],
   "source": [
    "x_train_2=pd.read_csv(\"X_train_v2.csv\")\n",
    "x_test_2=pd.read_csv(\"X_test_v2.csv\")\n",
    "y_train_2=pd.read_csv(\"Y_train_v2.csv\")\n",
    "y_test_2=pd.read_csv(\"Y_test_v2.csv\")"
   ]
  },
  {
   "cell_type": "markdown",
   "metadata": {},
   "source": [
    "### Entrenando a AdaBoost con el modelo por deault"
   ]
  },
  {
   "cell_type": "code",
   "execution_count": 11,
   "metadata": {},
   "outputs": [
    {
     "name": "stderr",
     "output_type": "stream",
     "text": [
      "C:\\Users\\omore\\Anaconda3\\envs\\Machine_learning\\lib\\site-packages\\sklearn\\utils\\validation.py:72: DataConversionWarning: A column-vector y was passed when a 1d array was expected. Please change the shape of y to (n_samples, ), for example using ravel().\n",
      "  return f(**kwargs)\n"
     ]
    }
   ],
   "source": [
    "clf = AdaBoostClassifier(n_estimators=100, random_state=42)\n",
    "model=clf.fit(x_train, y_train)"
   ]
  },
  {
   "cell_type": "code",
   "execution_count": 12,
   "metadata": {},
   "outputs": [
    {
     "data": {
      "text/plain": [
       "0.43601895734597157"
      ]
     },
     "execution_count": 12,
     "metadata": {},
     "output_type": "execute_result"
    }
   ],
   "source": [
    "model.score(x_train, y_train)"
   ]
  },
  {
   "cell_type": "markdown",
   "metadata": {},
   "source": [
    "### Entrenando a AdaBoost con SVC"
   ]
  },
  {
   "cell_type": "code",
   "execution_count": 19,
   "metadata": {},
   "outputs": [],
   "source": [
    "svc=SVC(probability=True, kernel='linear')\n",
    "\n",
    "# Create adaboost classifer object\n",
    "abc =AdaBoostClassifier(n_estimators=100, base_estimator=svc,learning_rate=1)"
   ]
  },
  {
   "cell_type": "code",
   "execution_count": 20,
   "metadata": {},
   "outputs": [
    {
     "name": "stderr",
     "output_type": "stream",
     "text": [
      "C:\\Users\\omore\\Anaconda3\\envs\\Machine_learning\\lib\\site-packages\\sklearn\\utils\\validation.py:72: DataConversionWarning: A column-vector y was passed when a 1d array was expected. Please change the shape of y to (n_samples, ), for example using ravel().\n",
      "  return f(**kwargs)\n"
     ]
    }
   ],
   "source": [
    "model = abc.fit(x_train, y_train)"
   ]
  },
  {
   "cell_type": "code",
   "execution_count": 21,
   "metadata": {},
   "outputs": [
    {
     "data": {
      "text/plain": [
       "0.5290284360189573"
      ]
     },
     "execution_count": 21,
     "metadata": {},
     "output_type": "execute_result"
    }
   ],
   "source": [
    "model.score(x_train, y_train)"
   ]
  },
  {
   "cell_type": "markdown",
   "metadata": {},
   "source": [
    "### Entrenando a AdaBoost con DT cambiando algunos parametros"
   ]
  },
  {
   "cell_type": "markdown",
   "metadata": {},
   "source": [
    "Despues de un prueba y error con diferentes parametros se utilizo el max_depth = 18 que se hallo como mejor depth en el GridSearch del modelo baseline"
   ]
  },
  {
   "cell_type": "code",
   "execution_count": 27,
   "metadata": {},
   "outputs": [
    {
     "name": "stdout",
     "output_type": "stream",
     "text": [
      "1.0\n",
      "0.9810874704491725\n"
     ]
    },
    {
     "name": "stderr",
     "output_type": "stream",
     "text": [
      "C:\\Users\\omore\\Anaconda3\\envs\\Machine_learning\\lib\\site-packages\\sklearn\\utils\\validation.py:72: DataConversionWarning: A column-vector y was passed when a 1d array was expected. Please change the shape of y to (n_samples, ), for example using ravel().\n",
      "  return f(**kwargs)\n"
     ]
    }
   ],
   "source": [
    "DTC = DecisionTreeClassifier(random_state = 42, class_weight = \"balanced\",max_depth = 18)\n",
    "\n",
    "ABC = AdaBoostClassifier(base_estimator = DTC)\n",
    "model = ABC.fit(x_train, y_train)\n",
    "print(model.score(x_train, y_train))\n",
    "print(model.score(x_test, y_test))"
   ]
  },
  {
   "cell_type": "markdown",
   "metadata": {},
   "source": [
    "#### Aplicando lo mismo con la version con feature engineering"
   ]
  },
  {
   "cell_type": "code",
   "execution_count": 36,
   "metadata": {},
   "outputs": [
    {
     "name": "stdout",
     "output_type": "stream",
     "text": [
      "1.0\n",
      "0.9739952718676123\n"
     ]
    },
    {
     "name": "stderr",
     "output_type": "stream",
     "text": [
      "C:\\Users\\omore\\Anaconda3\\envs\\Machine_learning\\lib\\site-packages\\sklearn\\utils\\validation.py:72: DataConversionWarning: A column-vector y was passed when a 1d array was expected. Please change the shape of y to (n_samples, ), for example using ravel().\n",
      "  return f(**kwargs)\n"
     ]
    }
   ],
   "source": [
    "DTC = DecisionTreeClassifier(random_state = 42, class_weight = \"balanced\",max_depth = 18)\n",
    "\n",
    "ABC = AdaBoostClassifier(base_estimator = DTC)\n",
    "model = ABC.fit(x_train_2, y_train_2)\n",
    "print(model.score(x_train_2, y_train_2))\n",
    "print(model.score(x_test_2, y_test_2))"
   ]
  },
  {
   "cell_type": "markdown",
   "metadata": {},
   "source": [
    "### Entrenando a CatBoost"
   ]
  },
  {
   "cell_type": "code",
   "execution_count": 38,
   "metadata": {},
   "outputs": [],
   "source": [
    "from catboost import Pool,CatBoostClassifier"
   ]
  },
  {
   "cell_type": "code",
   "execution_count": 39,
   "metadata": {},
   "outputs": [],
   "source": [
    "train_dataset = Pool(data=x_train,label=y_train) "
   ]
  },
  {
   "cell_type": "code",
   "execution_count": 40,
   "metadata": {},
   "outputs": [],
   "source": [
    "test_dataset = Pool(data=x_test,label=y_test) "
   ]
  },
  {
   "cell_type": "code",
   "execution_count": 50,
   "metadata": {},
   "outputs": [],
   "source": [
    "model_catboost = CatBoostClassifier(learning_rate=0.1,iterations=200,\n",
    "                           depth=12)"
   ]
  },
  {
   "cell_type": "code",
   "execution_count": 51,
   "metadata": {},
   "outputs": [
    {
     "name": "stderr",
     "output_type": "stream",
     "text": [
      "Custom logger is already specified. Specify more than one logger at same time is not thread safe."
     ]
    },
    {
     "name": "stdout",
     "output_type": "stream",
     "text": [
      "0:\tlearn: 1.6296958\ttotal: 1.36s\tremaining: 4m 30s\n",
      "1:\tlearn: 1.4443740\ttotal: 2.66s\tremaining: 4m 23s\n",
      "2:\tlearn: 1.3074735\ttotal: 3.97s\tremaining: 4m 20s\n",
      "3:\tlearn: 1.1420630\ttotal: 5.28s\tremaining: 4m 18s\n",
      "4:\tlearn: 1.0222738\ttotal: 6.63s\tremaining: 4m 18s\n",
      "5:\tlearn: 0.9316599\ttotal: 7.97s\tremaining: 4m 17s\n",
      "6:\tlearn: 0.8417704\ttotal: 9.32s\tremaining: 4m 16s\n",
      "7:\tlearn: 0.7746215\ttotal: 10.8s\tremaining: 4m 18s\n",
      "8:\tlearn: 0.7117419\ttotal: 12.1s\tremaining: 4m 16s\n",
      "9:\tlearn: 0.6439263\ttotal: 13.4s\tremaining: 4m 15s\n",
      "10:\tlearn: 0.6008586\ttotal: 14.8s\tremaining: 4m 14s\n",
      "11:\tlearn: 0.5431485\ttotal: 15s\tremaining: 3m 54s\n",
      "12:\tlearn: 0.5121030\ttotal: 16.3s\tremaining: 3m 54s\n",
      "13:\tlearn: 0.4819214\ttotal: 17.6s\tremaining: 3m 54s\n",
      "14:\tlearn: 0.4506042\ttotal: 18.9s\tremaining: 3m 53s\n",
      "15:\tlearn: 0.4187101\ttotal: 20.3s\tremaining: 3m 53s\n",
      "16:\tlearn: 0.3931930\ttotal: 21.7s\tremaining: 3m 53s\n",
      "17:\tlearn: 0.3699964\ttotal: 23.1s\tremaining: 3m 53s\n",
      "18:\tlearn: 0.3500322\ttotal: 24.4s\tremaining: 3m 52s\n",
      "19:\tlearn: 0.3379622\ttotal: 25.8s\tremaining: 3m 52s\n",
      "20:\tlearn: 0.3223434\ttotal: 27.1s\tremaining: 3m 51s\n",
      "21:\tlearn: 0.3073985\ttotal: 28.6s\tremaining: 3m 51s\n",
      "22:\tlearn: 0.2881594\ttotal: 29.9s\tremaining: 3m 50s\n",
      "23:\tlearn: 0.2743645\ttotal: 30.6s\tremaining: 3m 44s\n",
      "24:\tlearn: 0.2644758\ttotal: 31.9s\tremaining: 3m 43s\n",
      "25:\tlearn: 0.2534647\ttotal: 33.3s\tremaining: 3m 42s\n",
      "26:\tlearn: 0.2416964\ttotal: 34.6s\tremaining: 3m 41s\n",
      "27:\tlearn: 0.2337211\ttotal: 35.9s\tremaining: 3m 40s\n",
      "28:\tlearn: 0.2237059\ttotal: 37.2s\tremaining: 3m 39s\n",
      "29:\tlearn: 0.2165025\ttotal: 38.5s\tremaining: 3m 38s\n",
      "30:\tlearn: 0.2094303\ttotal: 39.9s\tremaining: 3m 37s\n",
      "31:\tlearn: 0.2030031\ttotal: 41.2s\tremaining: 3m 36s\n",
      "32:\tlearn: 0.1972340\ttotal: 42.5s\tremaining: 3m 35s\n",
      "33:\tlearn: 0.1886033\ttotal: 43.8s\tremaining: 3m 33s\n",
      "34:\tlearn: 0.1813561\ttotal: 45.1s\tremaining: 3m 32s\n",
      "35:\tlearn: 0.1758097\ttotal: 46.4s\tremaining: 3m 31s\n",
      "36:\tlearn: 0.1684256\ttotal: 47.7s\tremaining: 3m 30s\n",
      "37:\tlearn: 0.1643202\ttotal: 49.1s\tremaining: 3m 29s\n",
      "38:\tlearn: 0.1575597\ttotal: 50.4s\tremaining: 3m 28s\n",
      "39:\tlearn: 0.1529134\ttotal: 51.8s\tremaining: 3m 27s\n",
      "40:\tlearn: 0.1491488\ttotal: 53.4s\tremaining: 3m 27s\n",
      "41:\tlearn: 0.1450925\ttotal: 55s\tremaining: 3m 27s\n",
      "42:\tlearn: 0.1413278\ttotal: 56.5s\tremaining: 3m 26s\n",
      "43:\tlearn: 0.1381868\ttotal: 58.2s\tremaining: 3m 26s\n",
      "44:\tlearn: 0.1345973\ttotal: 59.5s\tremaining: 3m 25s\n",
      "45:\tlearn: 0.1317857\ttotal: 1m\tremaining: 3m 23s\n",
      "46:\tlearn: 0.1286335\ttotal: 1m 2s\tremaining: 3m 22s\n",
      "47:\tlearn: 0.1259812\ttotal: 1m 3s\tremaining: 3m 21s\n",
      "48:\tlearn: 0.1230276\ttotal: 1m 4s\tremaining: 3m 19s\n",
      "49:\tlearn: 0.1182388\ttotal: 1m 6s\tremaining: 3m 18s\n",
      "50:\tlearn: 0.1163601\ttotal: 1m 7s\tremaining: 3m 17s\n",
      "51:\tlearn: 0.1136553\ttotal: 1m 8s\tremaining: 3m 15s\n",
      "52:\tlearn: 0.1109994\ttotal: 1m 10s\tremaining: 3m 14s\n",
      "53:\tlearn: 0.1085432\ttotal: 1m 11s\tremaining: 3m 13s\n",
      "54:\tlearn: 0.1064324\ttotal: 1m 12s\tremaining: 3m 11s\n",
      "55:\tlearn: 0.1043832\ttotal: 1m 14s\tremaining: 3m 10s\n",
      "56:\tlearn: 0.1024399\ttotal: 1m 15s\tremaining: 3m 9s\n",
      "57:\tlearn: 0.0999971\ttotal: 1m 16s\tremaining: 3m 7s\n",
      "58:\tlearn: 0.0968493\ttotal: 1m 18s\tremaining: 3m 6s\n",
      "59:\tlearn: 0.0955524\ttotal: 1m 19s\tremaining: 3m 5s\n",
      "60:\tlearn: 0.0935493\ttotal: 1m 20s\tremaining: 3m 3s\n",
      "61:\tlearn: 0.0922514\ttotal: 1m 22s\tremaining: 3m 3s\n",
      "62:\tlearn: 0.0908042\ttotal: 1m 23s\tremaining: 3m 1s\n",
      "63:\tlearn: 0.0889602\ttotal: 1m 24s\tremaining: 3m\n",
      "64:\tlearn: 0.0871534\ttotal: 1m 26s\tremaining: 2m 59s\n",
      "65:\tlearn: 0.0855165\ttotal: 1m 27s\tremaining: 2m 57s\n",
      "66:\tlearn: 0.0838436\ttotal: 1m 29s\tremaining: 2m 56s\n",
      "67:\tlearn: 0.0825927\ttotal: 1m 30s\tremaining: 2m 55s\n",
      "68:\tlearn: 0.0807732\ttotal: 1m 31s\tremaining: 2m 54s\n",
      "69:\tlearn: 0.0790612\ttotal: 1m 33s\tremaining: 2m 52s\n",
      "70:\tlearn: 0.0778421\ttotal: 1m 34s\tremaining: 2m 51s\n",
      "71:\tlearn: 0.0765357\ttotal: 1m 35s\tremaining: 2m 50s\n",
      "72:\tlearn: 0.0752859\ttotal: 1m 37s\tremaining: 2m 48s\n",
      "73:\tlearn: 0.0733469\ttotal: 1m 38s\tremaining: 2m 47s\n",
      "74:\tlearn: 0.0719918\ttotal: 1m 39s\tremaining: 2m 46s\n",
      "75:\tlearn: 0.0707346\ttotal: 1m 41s\tremaining: 2m 44s\n",
      "76:\tlearn: 0.0693731\ttotal: 1m 42s\tremaining: 2m 43s\n",
      "77:\tlearn: 0.0682946\ttotal: 1m 43s\tremaining: 2m 42s\n",
      "78:\tlearn: 0.0670094\ttotal: 1m 45s\tremaining: 2m 40s\n",
      "79:\tlearn: 0.0659574\ttotal: 1m 46s\tremaining: 2m 39s\n",
      "80:\tlearn: 0.0647504\ttotal: 1m 47s\tremaining: 2m 38s\n",
      "81:\tlearn: 0.0638582\ttotal: 1m 49s\tremaining: 2m 36s\n",
      "82:\tlearn: 0.0622176\ttotal: 1m 50s\tremaining: 2m 35s\n",
      "83:\tlearn: 0.0613701\ttotal: 1m 51s\tremaining: 2m 34s\n",
      "84:\tlearn: 0.0604984\ttotal: 1m 53s\tremaining: 2m 33s\n",
      "85:\tlearn: 0.0593544\ttotal: 1m 54s\tremaining: 2m 31s\n",
      "86:\tlearn: 0.0583256\ttotal: 1m 55s\tremaining: 2m 30s\n",
      "87:\tlearn: 0.0568594\ttotal: 1m 57s\tremaining: 2m 29s\n",
      "88:\tlearn: 0.0558842\ttotal: 1m 58s\tremaining: 2m 28s\n",
      "89:\tlearn: 0.0552655\ttotal: 2m\tremaining: 2m 26s\n",
      "90:\tlearn: 0.0545119\ttotal: 2m 1s\tremaining: 2m 25s\n",
      "91:\tlearn: 0.0536239\ttotal: 2m 2s\tremaining: 2m 24s\n",
      "92:\tlearn: 0.0530684\ttotal: 2m 4s\tremaining: 2m 22s\n",
      "93:\tlearn: 0.0523296\ttotal: 2m 5s\tremaining: 2m 21s\n",
      "94:\tlearn: 0.0517984\ttotal: 2m 6s\tremaining: 2m 20s\n",
      "95:\tlearn: 0.0510683\ttotal: 2m 8s\tremaining: 2m 18s\n",
      "96:\tlearn: 0.0503957\ttotal: 2m 9s\tremaining: 2m 17s\n",
      "97:\tlearn: 0.0495068\ttotal: 2m 10s\tremaining: 2m 16s\n",
      "98:\tlearn: 0.0488209\ttotal: 2m 12s\tremaining: 2m 14s\n",
      "99:\tlearn: 0.0476759\ttotal: 2m 13s\tremaining: 2m 13s\n",
      "100:\tlearn: 0.0469746\ttotal: 2m 15s\tremaining: 2m 12s\n",
      "101:\tlearn: 0.0460905\ttotal: 2m 16s\tremaining: 2m 11s\n",
      "102:\tlearn: 0.0454723\ttotal: 2m 18s\tremaining: 2m 9s\n",
      "103:\tlearn: 0.0449019\ttotal: 2m 19s\tremaining: 2m 8s\n",
      "104:\tlearn: 0.0441387\ttotal: 2m 20s\tremaining: 2m 7s\n",
      "105:\tlearn: 0.0435083\ttotal: 2m 21s\tremaining: 2m 5s\n",
      "106:\tlearn: 0.0428859\ttotal: 2m 23s\tremaining: 2m 4s\n",
      "107:\tlearn: 0.0424794\ttotal: 2m 24s\tremaining: 2m 3s\n",
      "108:\tlearn: 0.0419979\ttotal: 2m 25s\tremaining: 2m 1s\n",
      "109:\tlearn: 0.0416627\ttotal: 2m 27s\tremaining: 2m\n",
      "110:\tlearn: 0.0411612\ttotal: 2m 28s\tremaining: 1m 59s\n",
      "111:\tlearn: 0.0407230\ttotal: 2m 29s\tremaining: 1m 57s\n",
      "112:\tlearn: 0.0400945\ttotal: 2m 31s\tremaining: 1m 56s\n",
      "113:\tlearn: 0.0395644\ttotal: 2m 32s\tremaining: 1m 55s\n",
      "114:\tlearn: 0.0390092\ttotal: 2m 33s\tremaining: 1m 53s\n",
      "115:\tlearn: 0.0386138\ttotal: 2m 35s\tremaining: 1m 52s\n",
      "116:\tlearn: 0.0381972\ttotal: 2m 36s\tremaining: 1m 51s\n",
      "117:\tlearn: 0.0377455\ttotal: 2m 38s\tremaining: 1m 49s\n",
      "118:\tlearn: 0.0373380\ttotal: 2m 39s\tremaining: 1m 48s\n",
      "119:\tlearn: 0.0370569\ttotal: 2m 40s\tremaining: 1m 47s\n",
      "120:\tlearn: 0.0367407\ttotal: 2m 42s\tremaining: 1m 45s\n",
      "121:\tlearn: 0.0364564\ttotal: 2m 43s\tremaining: 1m 44s\n",
      "122:\tlearn: 0.0360570\ttotal: 2m 44s\tremaining: 1m 43s\n",
      "123:\tlearn: 0.0357001\ttotal: 2m 46s\tremaining: 1m 41s\n",
      "124:\tlearn: 0.0349712\ttotal: 2m 47s\tremaining: 1m 40s\n",
      "125:\tlearn: 0.0347217\ttotal: 2m 48s\tremaining: 1m 39s\n",
      "126:\tlearn: 0.0343089\ttotal: 2m 50s\tremaining: 1m 37s\n",
      "127:\tlearn: 0.0338168\ttotal: 2m 51s\tremaining: 1m 36s\n",
      "128:\tlearn: 0.0334853\ttotal: 2m 52s\tremaining: 1m 35s\n",
      "129:\tlearn: 0.0331177\ttotal: 2m 54s\tremaining: 1m 33s\n",
      "130:\tlearn: 0.0325916\ttotal: 2m 55s\tremaining: 1m 32s\n",
      "131:\tlearn: 0.0322256\ttotal: 2m 56s\tremaining: 1m 31s\n",
      "132:\tlearn: 0.0319304\ttotal: 2m 58s\tremaining: 1m 29s\n",
      "133:\tlearn: 0.0316419\ttotal: 2m 59s\tremaining: 1m 28s\n",
      "134:\tlearn: 0.0313303\ttotal: 3m 1s\tremaining: 1m 27s\n",
      "135:\tlearn: 0.0309729\ttotal: 3m 3s\tremaining: 1m 26s\n",
      "136:\tlearn: 0.0307645\ttotal: 3m 4s\tremaining: 1m 24s\n",
      "137:\tlearn: 0.0303886\ttotal: 3m 6s\tremaining: 1m 23s\n",
      "138:\tlearn: 0.0301086\ttotal: 3m 7s\tremaining: 1m 22s\n",
      "139:\tlearn: 0.0297676\ttotal: 3m 8s\tremaining: 1m 20s\n",
      "140:\tlearn: 0.0295024\ttotal: 3m 10s\tremaining: 1m 19s\n",
      "141:\tlearn: 0.0292272\ttotal: 3m 11s\tremaining: 1m 18s\n",
      "142:\tlearn: 0.0289657\ttotal: 3m 13s\tremaining: 1m 16s\n",
      "143:\tlearn: 0.0286367\ttotal: 3m 14s\tremaining: 1m 15s\n",
      "144:\tlearn: 0.0284432\ttotal: 3m 15s\tremaining: 1m 14s\n",
      "145:\tlearn: 0.0281817\ttotal: 3m 16s\tremaining: 1m 12s\n",
      "146:\tlearn: 0.0279865\ttotal: 3m 18s\tremaining: 1m 11s\n",
      "147:\tlearn: 0.0277943\ttotal: 3m 19s\tremaining: 1m 10s\n",
      "148:\tlearn: 0.0275168\ttotal: 3m 20s\tremaining: 1m 8s\n",
      "149:\tlearn: 0.0272432\ttotal: 3m 22s\tremaining: 1m 7s\n",
      "150:\tlearn: 0.0269897\ttotal: 3m 23s\tremaining: 1m 6s\n",
      "151:\tlearn: 0.0268339\ttotal: 3m 24s\tremaining: 1m 4s\n",
      "152:\tlearn: 0.0266671\ttotal: 3m 26s\tremaining: 1m 3s\n",
      "153:\tlearn: 0.0263713\ttotal: 3m 27s\tremaining: 1m 2s\n",
      "154:\tlearn: 0.0261056\ttotal: 3m 28s\tremaining: 1m\n",
      "155:\tlearn: 0.0257649\ttotal: 3m 30s\tremaining: 59.3s\n"
     ]
    },
    {
     "name": "stdout",
     "output_type": "stream",
     "text": [
      "156:\tlearn: 0.0255603\ttotal: 3m 31s\tremaining: 58s\n",
      "157:\tlearn: 0.0253950\ttotal: 3m 32s\tremaining: 56.6s\n",
      "158:\tlearn: 0.0251033\ttotal: 3m 34s\tremaining: 55.2s\n",
      "159:\tlearn: 0.0249632\ttotal: 3m 35s\tremaining: 53.9s\n",
      "160:\tlearn: 0.0248305\ttotal: 3m 36s\tremaining: 52.5s\n",
      "161:\tlearn: 0.0246886\ttotal: 3m 38s\tremaining: 51.2s\n",
      "162:\tlearn: 0.0243865\ttotal: 3m 39s\tremaining: 49.9s\n",
      "163:\tlearn: 0.0242186\ttotal: 3m 41s\tremaining: 48.5s\n",
      "164:\tlearn: 0.0240286\ttotal: 3m 42s\tremaining: 47.2s\n",
      "165:\tlearn: 0.0238609\ttotal: 3m 43s\tremaining: 45.9s\n",
      "166:\tlearn: 0.0237339\ttotal: 3m 45s\tremaining: 44.5s\n",
      "167:\tlearn: 0.0235825\ttotal: 3m 46s\tremaining: 43.1s\n",
      "168:\tlearn: 0.0233796\ttotal: 3m 47s\tremaining: 41.8s\n",
      "169:\tlearn: 0.0232600\ttotal: 3m 49s\tremaining: 40.4s\n",
      "170:\tlearn: 0.0230739\ttotal: 3m 50s\tremaining: 39.1s\n",
      "171:\tlearn: 0.0228844\ttotal: 3m 51s\tremaining: 37.7s\n",
      "172:\tlearn: 0.0226654\ttotal: 3m 53s\tremaining: 36.4s\n",
      "173:\tlearn: 0.0224744\ttotal: 3m 54s\tremaining: 35s\n",
      "174:\tlearn: 0.0222770\ttotal: 3m 55s\tremaining: 33.7s\n",
      "175:\tlearn: 0.0221804\ttotal: 3m 57s\tremaining: 32.4s\n",
      "176:\tlearn: 0.0219766\ttotal: 3m 58s\tremaining: 31s\n",
      "177:\tlearn: 0.0217937\ttotal: 4m\tremaining: 29.7s\n",
      "178:\tlearn: 0.0216487\ttotal: 4m 1s\tremaining: 28.3s\n",
      "179:\tlearn: 0.0215337\ttotal: 4m 2s\tremaining: 27s\n",
      "180:\tlearn: 0.0214098\ttotal: 4m 3s\tremaining: 25.6s\n",
      "181:\tlearn: 0.0212979\ttotal: 4m 5s\tremaining: 24.3s\n",
      "182:\tlearn: 0.0211923\ttotal: 4m 6s\tremaining: 22.9s\n",
      "183:\tlearn: 0.0210409\ttotal: 4m 8s\tremaining: 21.6s\n",
      "184:\tlearn: 0.0209344\ttotal: 4m 9s\tremaining: 20.2s\n",
      "185:\tlearn: 0.0207621\ttotal: 4m 10s\tremaining: 18.9s\n",
      "186:\tlearn: 0.0206631\ttotal: 4m 12s\tremaining: 17.5s\n",
      "187:\tlearn: 0.0205680\ttotal: 4m 13s\tremaining: 16.2s\n",
      "188:\tlearn: 0.0204056\ttotal: 4m 15s\tremaining: 14.9s\n",
      "189:\tlearn: 0.0203152\ttotal: 4m 16s\tremaining: 13.5s\n",
      "190:\tlearn: 0.0201102\ttotal: 4m 17s\tremaining: 12.2s\n",
      "191:\tlearn: 0.0200178\ttotal: 4m 19s\tremaining: 10.8s\n",
      "192:\tlearn: 0.0198241\ttotal: 4m 20s\tremaining: 9.45s\n",
      "193:\tlearn: 0.0196906\ttotal: 4m 21s\tremaining: 8.1s\n",
      "194:\tlearn: 0.0195653\ttotal: 4m 23s\tremaining: 6.75s\n",
      "195:\tlearn: 0.0194236\ttotal: 4m 24s\tremaining: 5.4s\n",
      "196:\tlearn: 0.0193164\ttotal: 4m 25s\tremaining: 4.05s\n",
      "197:\tlearn: 0.0192029\ttotal: 4m 27s\tremaining: 2.7s\n",
      "198:\tlearn: 0.0191132\ttotal: 4m 28s\tremaining: 1.35s\n",
      "199:\tlearn: 0.0189354\ttotal: 4m 29s\tremaining: 0us\n"
     ]
    },
    {
     "data": {
      "text/plain": [
       "<catboost.core.CatBoostClassifier at 0x24380005348>"
      ]
     },
     "execution_count": 51,
     "metadata": {},
     "output_type": "execute_result"
    }
   ],
   "source": [
    "model_catboost.fit(train_dataset)"
   ]
  },
  {
   "cell_type": "code",
   "execution_count": 52,
   "metadata": {},
   "outputs": [
    {
     "data": {
      "text/plain": [
       "1.0"
      ]
     },
     "execution_count": 52,
     "metadata": {},
     "output_type": "execute_result"
    }
   ],
   "source": [
    "model_catboost.score(train_dataset)"
   ]
  },
  {
   "cell_type": "code",
   "execution_count": 53,
   "metadata": {},
   "outputs": [
    {
     "data": {
      "text/plain": [
       "0.9881796690307328"
      ]
     },
     "execution_count": 53,
     "metadata": {},
     "output_type": "execute_result"
    }
   ],
   "source": [
    "model_catboost.score(test_dataset)"
   ]
  },
  {
   "cell_type": "markdown",
   "metadata": {},
   "source": [
    "#### Aplicando lo mismo con la version con feature engineering"
   ]
  },
  {
   "cell_type": "code",
   "execution_count": 54,
   "metadata": {},
   "outputs": [],
   "source": [
    "train_dataset = Pool(data=x_train_2,label=y_train_2) "
   ]
  },
  {
   "cell_type": "code",
   "execution_count": 55,
   "metadata": {},
   "outputs": [],
   "source": [
    "test_dataset = Pool(data=x_test_2,label=y_test_2) "
   ]
  },
  {
   "cell_type": "code",
   "execution_count": 56,
   "metadata": {},
   "outputs": [],
   "source": [
    "model_catboost = CatBoostClassifier(learning_rate=0.1,iterations=250,\n",
    "                           depth=12)"
   ]
  },
  {
   "cell_type": "code",
   "execution_count": 57,
   "metadata": {},
   "outputs": [
    {
     "name": "stdout",
     "output_type": "stream",
     "text": [
      "0:\tlearn: 1.6592374\ttotal: 1.31s\tremaining: 5m 25s\n",
      "1:\tlearn: 1.4523043\ttotal: 2.6s\tremaining: 5m 22s\n",
      "2:\tlearn: 1.2764232\ttotal: 3.29s\tremaining: 4m 31s\n",
      "3:\tlearn: 1.1449737\ttotal: 4.64s\tremaining: 4m 45s\n",
      "4:\tlearn: 1.0540095\ttotal: 6.01s\tremaining: 4m 54s\n",
      "5:\tlearn: 0.9385809\ttotal: 7.33s\tremaining: 4m 58s\n",
      "6:\tlearn: 0.8611994\ttotal: 8.67s\tremaining: 5m 1s\n",
      "7:\tlearn: 0.8042220\ttotal: 10.1s\tremaining: 5m 4s\n",
      "8:\tlearn: 0.7414572\ttotal: 11.5s\tremaining: 5m 7s\n",
      "9:\tlearn: 0.6888575\ttotal: 13s\tremaining: 5m 11s\n",
      "10:\tlearn: 0.6168829\ttotal: 13.1s\tremaining: 4m 44s\n",
      "11:\tlearn: 0.5734993\ttotal: 14.5s\tremaining: 4m 47s\n",
      "12:\tlearn: 0.5436143\ttotal: 15.8s\tremaining: 4m 48s\n",
      "13:\tlearn: 0.5020621\ttotal: 17.2s\tremaining: 4m 49s\n",
      "14:\tlearn: 0.4679557\ttotal: 18.5s\tremaining: 4m 49s\n",
      "15:\tlearn: 0.4301795\ttotal: 19.2s\tremaining: 4m 40s\n",
      "16:\tlearn: 0.4059029\ttotal: 20.5s\tremaining: 4m 41s\n",
      "17:\tlearn: 0.3808084\ttotal: 21.9s\tremaining: 4m 41s\n",
      "18:\tlearn: 0.3572813\ttotal: 23.2s\tremaining: 4m 42s\n",
      "19:\tlearn: 0.3427541\ttotal: 24.5s\tremaining: 4m 42s\n",
      "20:\tlearn: 0.3260722\ttotal: 25.9s\tremaining: 4m 42s\n",
      "21:\tlearn: 0.3119198\ttotal: 27.2s\tremaining: 4m 42s\n",
      "22:\tlearn: 0.2968401\ttotal: 28.7s\tremaining: 4m 43s\n",
      "23:\tlearn: 0.2833270\ttotal: 30s\tremaining: 4m 42s\n",
      "24:\tlearn: 0.2700945\ttotal: 31.4s\tremaining: 4m 42s\n",
      "25:\tlearn: 0.2551447\ttotal: 32.7s\tremaining: 4m 42s\n",
      "26:\tlearn: 0.2459904\ttotal: 34.1s\tremaining: 4m 41s\n",
      "27:\tlearn: 0.2387334\ttotal: 35.4s\tremaining: 4m 40s\n",
      "28:\tlearn: 0.2299619\ttotal: 36.8s\tremaining: 4m 40s\n",
      "29:\tlearn: 0.2183128\ttotal: 38.3s\tremaining: 4m 40s\n",
      "30:\tlearn: 0.2085210\ttotal: 39.7s\tremaining: 4m 40s\n",
      "31:\tlearn: 0.1975901\ttotal: 41.1s\tremaining: 4m 39s\n",
      "32:\tlearn: 0.1897037\ttotal: 42.4s\tremaining: 4m 39s\n",
      "33:\tlearn: 0.1850896\ttotal: 43.8s\tremaining: 4m 38s\n",
      "34:\tlearn: 0.1784312\ttotal: 45.2s\tremaining: 4m 37s\n",
      "35:\tlearn: 0.1729386\ttotal: 46.6s\tremaining: 4m 37s\n",
      "36:\tlearn: 0.1653237\ttotal: 48.1s\tremaining: 4m 36s\n",
      "37:\tlearn: 0.1610452\ttotal: 49.4s\tremaining: 4m 35s\n",
      "38:\tlearn: 0.1539389\ttotal: 50.8s\tremaining: 4m 34s\n",
      "39:\tlearn: 0.1478000\ttotal: 51.5s\tremaining: 4m 30s\n",
      "40:\tlearn: 0.1429239\ttotal: 52.8s\tremaining: 4m 29s\n",
      "41:\tlearn: 0.1390524\ttotal: 54.2s\tremaining: 4m 28s\n",
      "42:\tlearn: 0.1367825\ttotal: 55.5s\tremaining: 4m 27s\n",
      "43:\tlearn: 0.1336859\ttotal: 56.8s\tremaining: 4m 26s\n",
      "44:\tlearn: 0.1291281\ttotal: 58.7s\tremaining: 4m 27s\n",
      "45:\tlearn: 0.1262130\ttotal: 1m\tremaining: 4m 26s\n",
      "46:\tlearn: 0.1231038\ttotal: 1m 1s\tremaining: 4m 25s\n",
      "47:\tlearn: 0.1199674\ttotal: 1m 2s\tremaining: 4m 24s\n",
      "48:\tlearn: 0.1158144\ttotal: 1m 4s\tremaining: 4m 23s\n",
      "49:\tlearn: 0.1136821\ttotal: 1m 5s\tremaining: 4m 22s\n",
      "50:\tlearn: 0.1099696\ttotal: 1m 6s\tremaining: 4m 21s\n",
      "51:\tlearn: 0.1077075\ttotal: 1m 8s\tremaining: 4m 19s\n",
      "52:\tlearn: 0.1053678\ttotal: 1m 9s\tremaining: 4m 18s\n",
      "53:\tlearn: 0.1025080\ttotal: 1m 10s\tremaining: 4m 17s\n",
      "54:\tlearn: 0.1006310\ttotal: 1m 12s\tremaining: 4m 16s\n",
      "55:\tlearn: 0.0980718\ttotal: 1m 13s\tremaining: 4m 14s\n",
      "56:\tlearn: 0.0966309\ttotal: 1m 14s\tremaining: 4m 13s\n",
      "57:\tlearn: 0.0942469\ttotal: 1m 16s\tremaining: 4m 13s\n",
      "58:\tlearn: 0.0915504\ttotal: 1m 17s\tremaining: 4m 11s\n",
      "59:\tlearn: 0.0900505\ttotal: 1m 19s\tremaining: 4m 10s\n",
      "60:\tlearn: 0.0881278\ttotal: 1m 20s\tremaining: 4m 9s\n",
      "61:\tlearn: 0.0864782\ttotal: 1m 22s\tremaining: 4m 9s\n",
      "62:\tlearn: 0.0846697\ttotal: 1m 23s\tremaining: 4m 8s\n",
      "63:\tlearn: 0.0831242\ttotal: 1m 24s\tremaining: 4m 6s\n",
      "64:\tlearn: 0.0812584\ttotal: 1m 26s\tremaining: 4m 5s\n",
      "65:\tlearn: 0.0801363\ttotal: 1m 27s\tremaining: 4m 4s\n",
      "66:\tlearn: 0.0791000\ttotal: 1m 29s\tremaining: 4m 3s\n",
      "67:\tlearn: 0.0777543\ttotal: 1m 30s\tremaining: 4m 1s\n",
      "68:\tlearn: 0.0766441\ttotal: 1m 31s\tremaining: 4m\n",
      "69:\tlearn: 0.0754302\ttotal: 1m 33s\tremaining: 3m 59s\n",
      "70:\tlearn: 0.0743595\ttotal: 1m 34s\tremaining: 3m 58s\n",
      "71:\tlearn: 0.0731916\ttotal: 1m 35s\tremaining: 3m 56s\n",
      "72:\tlearn: 0.0721854\ttotal: 1m 37s\tremaining: 3m 55s\n",
      "73:\tlearn: 0.0696923\ttotal: 1m 38s\tremaining: 3m 54s\n",
      "74:\tlearn: 0.0688992\ttotal: 1m 39s\tremaining: 3m 52s\n",
      "75:\tlearn: 0.0669465\ttotal: 1m 41s\tremaining: 3m 51s\n",
      "76:\tlearn: 0.0658276\ttotal: 1m 42s\tremaining: 3m 50s\n",
      "77:\tlearn: 0.0649048\ttotal: 1m 43s\tremaining: 3m 49s\n",
      "78:\tlearn: 0.0640926\ttotal: 1m 45s\tremaining: 3m 47s\n",
      "79:\tlearn: 0.0622394\ttotal: 1m 46s\tremaining: 3m 46s\n",
      "80:\tlearn: 0.0614711\ttotal: 1m 47s\tremaining: 3m 45s\n",
      "81:\tlearn: 0.0603252\ttotal: 1m 49s\tremaining: 3m 43s\n",
      "82:\tlearn: 0.0595750\ttotal: 1m 50s\tremaining: 3m 42s\n",
      "83:\tlearn: 0.0585637\ttotal: 1m 52s\tremaining: 3m 41s\n",
      "84:\tlearn: 0.0577021\ttotal: 1m 53s\tremaining: 3m 40s\n",
      "85:\tlearn: 0.0567892\ttotal: 1m 55s\tremaining: 3m 39s\n",
      "86:\tlearn: 0.0561200\ttotal: 1m 56s\tremaining: 3m 38s\n",
      "87:\tlearn: 0.0549958\ttotal: 1m 57s\tremaining: 3m 36s\n",
      "88:\tlearn: 0.0543429\ttotal: 1m 59s\tremaining: 3m 35s\n",
      "89:\tlearn: 0.0535306\ttotal: 2m\tremaining: 3m 34s\n",
      "90:\tlearn: 0.0528355\ttotal: 2m 1s\tremaining: 3m 32s\n",
      "91:\tlearn: 0.0520249\ttotal: 2m 3s\tremaining: 3m 31s\n",
      "92:\tlearn: 0.0509006\ttotal: 2m 4s\tremaining: 3m 30s\n",
      "93:\tlearn: 0.0503851\ttotal: 2m 5s\tremaining: 3m 28s\n",
      "94:\tlearn: 0.0494265\ttotal: 2m 7s\tremaining: 3m 27s\n",
      "95:\tlearn: 0.0482833\ttotal: 2m 8s\tremaining: 3m 25s\n",
      "96:\tlearn: 0.0474223\ttotal: 2m 9s\tremaining: 3m 24s\n",
      "97:\tlearn: 0.0463357\ttotal: 2m 11s\tremaining: 3m 23s\n",
      "98:\tlearn: 0.0453243\ttotal: 2m 12s\tremaining: 3m 21s\n",
      "99:\tlearn: 0.0444028\ttotal: 2m 13s\tremaining: 3m 20s\n",
      "100:\tlearn: 0.0437935\ttotal: 2m 15s\tremaining: 3m 19s\n",
      "101:\tlearn: 0.0432750\ttotal: 2m 16s\tremaining: 3m 18s\n",
      "102:\tlearn: 0.0423682\ttotal: 2m 17s\tremaining: 3m 16s\n",
      "103:\tlearn: 0.0418047\ttotal: 2m 19s\tremaining: 3m 15s\n",
      "104:\tlearn: 0.0413221\ttotal: 2m 20s\tremaining: 3m 14s\n",
      "105:\tlearn: 0.0407817\ttotal: 2m 21s\tremaining: 3m 12s\n",
      "106:\tlearn: 0.0401146\ttotal: 2m 23s\tremaining: 3m 11s\n",
      "107:\tlearn: 0.0395246\ttotal: 2m 24s\tremaining: 3m 10s\n",
      "108:\tlearn: 0.0388743\ttotal: 2m 26s\tremaining: 3m 9s\n",
      "109:\tlearn: 0.0383385\ttotal: 2m 27s\tremaining: 3m 7s\n",
      "110:\tlearn: 0.0376966\ttotal: 2m 28s\tremaining: 3m 6s\n",
      "111:\tlearn: 0.0370347\ttotal: 2m 30s\tremaining: 3m 5s\n",
      "112:\tlearn: 0.0366676\ttotal: 2m 31s\tremaining: 3m 3s\n",
      "113:\tlearn: 0.0363799\ttotal: 2m 32s\tremaining: 3m 2s\n",
      "114:\tlearn: 0.0361140\ttotal: 2m 34s\tremaining: 3m 1s\n",
      "115:\tlearn: 0.0356028\ttotal: 2m 35s\tremaining: 2m 59s\n",
      "116:\tlearn: 0.0352573\ttotal: 2m 36s\tremaining: 2m 58s\n",
      "117:\tlearn: 0.0348128\ttotal: 2m 38s\tremaining: 2m 57s\n",
      "118:\tlearn: 0.0345093\ttotal: 2m 39s\tremaining: 2m 55s\n",
      "119:\tlearn: 0.0342421\ttotal: 2m 40s\tremaining: 2m 54s\n",
      "120:\tlearn: 0.0337892\ttotal: 2m 42s\tremaining: 2m 53s\n",
      "121:\tlearn: 0.0335909\ttotal: 2m 43s\tremaining: 2m 51s\n",
      "122:\tlearn: 0.0332741\ttotal: 2m 44s\tremaining: 2m 50s\n",
      "123:\tlearn: 0.0328186\ttotal: 2m 46s\tremaining: 2m 49s\n",
      "124:\tlearn: 0.0325407\ttotal: 2m 47s\tremaining: 2m 47s\n",
      "125:\tlearn: 0.0321285\ttotal: 2m 49s\tremaining: 2m 46s\n",
      "126:\tlearn: 0.0318782\ttotal: 2m 50s\tremaining: 2m 44s\n",
      "127:\tlearn: 0.0313465\ttotal: 2m 51s\tremaining: 2m 43s\n",
      "128:\tlearn: 0.0311193\ttotal: 2m 53s\tremaining: 2m 42s\n",
      "129:\tlearn: 0.0308588\ttotal: 2m 54s\tremaining: 2m 40s\n",
      "130:\tlearn: 0.0306346\ttotal: 2m 55s\tremaining: 2m 39s\n",
      "131:\tlearn: 0.0303667\ttotal: 2m 57s\tremaining: 2m 38s\n",
      "132:\tlearn: 0.0300838\ttotal: 2m 58s\tremaining: 2m 37s\n",
      "133:\tlearn: 0.0295278\ttotal: 3m\tremaining: 2m 35s\n",
      "134:\tlearn: 0.0292851\ttotal: 3m 1s\tremaining: 2m 34s\n",
      "135:\tlearn: 0.0290570\ttotal: 3m 2s\tremaining: 2m 33s\n",
      "136:\tlearn: 0.0288669\ttotal: 3m 4s\tremaining: 2m 31s\n",
      "137:\tlearn: 0.0285534\ttotal: 3m 5s\tremaining: 2m 30s\n",
      "138:\tlearn: 0.0283200\ttotal: 3m 6s\tremaining: 2m 29s\n",
      "139:\tlearn: 0.0280660\ttotal: 3m 8s\tremaining: 2m 27s\n",
      "140:\tlearn: 0.0278763\ttotal: 3m 9s\tremaining: 2m 26s\n",
      "141:\tlearn: 0.0276762\ttotal: 3m 10s\tremaining: 2m 25s\n",
      "142:\tlearn: 0.0274345\ttotal: 3m 12s\tremaining: 2m 23s\n",
      "143:\tlearn: 0.0270936\ttotal: 3m 13s\tremaining: 2m 22s\n",
      "144:\tlearn: 0.0268722\ttotal: 3m 15s\tremaining: 2m 21s\n",
      "145:\tlearn: 0.0266102\ttotal: 3m 16s\tremaining: 2m 19s\n",
      "146:\tlearn: 0.0263703\ttotal: 3m 17s\tremaining: 2m 18s\n",
      "147:\tlearn: 0.0261160\ttotal: 3m 19s\tremaining: 2m 17s\n",
      "148:\tlearn: 0.0259324\ttotal: 3m 20s\tremaining: 2m 15s\n",
      "149:\tlearn: 0.0257752\ttotal: 3m 21s\tremaining: 2m 14s\n",
      "150:\tlearn: 0.0255836\ttotal: 3m 23s\tremaining: 2m 13s\n",
      "151:\tlearn: 0.0254200\ttotal: 3m 24s\tremaining: 2m 11s\n",
      "152:\tlearn: 0.0251959\ttotal: 3m 25s\tremaining: 2m 10s\n",
      "153:\tlearn: 0.0250590\ttotal: 3m 27s\tremaining: 2m 9s\n",
      "154:\tlearn: 0.0248633\ttotal: 3m 28s\tremaining: 2m 7s\n",
      "155:\tlearn: 0.0246144\ttotal: 3m 30s\tremaining: 2m 6s\n"
     ]
    },
    {
     "name": "stdout",
     "output_type": "stream",
     "text": [
      "156:\tlearn: 0.0244979\ttotal: 3m 31s\tremaining: 2m 5s\n",
      "157:\tlearn: 0.0242115\ttotal: 3m 33s\tremaining: 2m 4s\n",
      "158:\tlearn: 0.0239246\ttotal: 3m 34s\tremaining: 2m 2s\n",
      "159:\tlearn: 0.0237652\ttotal: 3m 35s\tremaining: 2m 1s\n",
      "160:\tlearn: 0.0236411\ttotal: 3m 37s\tremaining: 2m\n",
      "161:\tlearn: 0.0235265\ttotal: 3m 38s\tremaining: 1m 58s\n",
      "162:\tlearn: 0.0233694\ttotal: 3m 39s\tremaining: 1m 57s\n",
      "163:\tlearn: 0.0232387\ttotal: 3m 41s\tremaining: 1m 55s\n",
      "164:\tlearn: 0.0230932\ttotal: 3m 42s\tremaining: 1m 54s\n",
      "165:\tlearn: 0.0229960\ttotal: 3m 44s\tremaining: 1m 53s\n",
      "166:\tlearn: 0.0227690\ttotal: 3m 45s\tremaining: 1m 52s\n",
      "167:\tlearn: 0.0225870\ttotal: 3m 46s\tremaining: 1m 50s\n",
      "168:\tlearn: 0.0224615\ttotal: 3m 48s\tremaining: 1m 49s\n",
      "169:\tlearn: 0.0223353\ttotal: 3m 49s\tremaining: 1m 47s\n",
      "170:\tlearn: 0.0221375\ttotal: 3m 50s\tremaining: 1m 46s\n",
      "171:\tlearn: 0.0219153\ttotal: 3m 52s\tremaining: 1m 45s\n",
      "172:\tlearn: 0.0216227\ttotal: 3m 53s\tremaining: 1m 43s\n",
      "173:\tlearn: 0.0213595\ttotal: 3m 54s\tremaining: 1m 42s\n",
      "174:\tlearn: 0.0212166\ttotal: 3m 56s\tremaining: 1m 41s\n",
      "175:\tlearn: 0.0210614\ttotal: 3m 57s\tremaining: 1m 39s\n",
      "176:\tlearn: 0.0207950\ttotal: 3m 58s\tremaining: 1m 38s\n",
      "177:\tlearn: 0.0206311\ttotal: 4m\tremaining: 1m 37s\n",
      "178:\tlearn: 0.0205100\ttotal: 4m 1s\tremaining: 1m 35s\n",
      "179:\tlearn: 0.0203392\ttotal: 4m 3s\tremaining: 1m 34s\n",
      "180:\tlearn: 0.0202169\ttotal: 4m 4s\tremaining: 1m 33s\n",
      "181:\tlearn: 0.0199573\ttotal: 4m 5s\tremaining: 1m 31s\n",
      "182:\tlearn: 0.0198562\ttotal: 4m 7s\tremaining: 1m 30s\n",
      "183:\tlearn: 0.0197149\ttotal: 4m 8s\tremaining: 1m 29s\n",
      "184:\tlearn: 0.0195167\ttotal: 4m 10s\tremaining: 1m 27s\n",
      "185:\tlearn: 0.0193965\ttotal: 4m 11s\tremaining: 1m 26s\n",
      "186:\tlearn: 0.0192844\ttotal: 4m 12s\tremaining: 1m 25s\n",
      "187:\tlearn: 0.0191202\ttotal: 4m 14s\tremaining: 1m 23s\n",
      "188:\tlearn: 0.0190244\ttotal: 4m 15s\tremaining: 1m 22s\n",
      "189:\tlearn: 0.0189365\ttotal: 4m 16s\tremaining: 1m 21s\n",
      "190:\tlearn: 0.0187593\ttotal: 4m 18s\tremaining: 1m 19s\n",
      "191:\tlearn: 0.0186076\ttotal: 4m 19s\tremaining: 1m 18s\n",
      "192:\tlearn: 0.0184578\ttotal: 4m 20s\tremaining: 1m 16s\n",
      "193:\tlearn: 0.0183510\ttotal: 4m 22s\tremaining: 1m 15s\n",
      "194:\tlearn: 0.0181898\ttotal: 4m 23s\tremaining: 1m 14s\n",
      "195:\tlearn: 0.0180620\ttotal: 4m 24s\tremaining: 1m 12s\n",
      "196:\tlearn: 0.0179652\ttotal: 4m 26s\tremaining: 1m 11s\n",
      "197:\tlearn: 0.0178619\ttotal: 4m 27s\tremaining: 1m 10s\n",
      "198:\tlearn: 0.0177678\ttotal: 4m 28s\tremaining: 1m 8s\n",
      "199:\tlearn: 0.0176800\ttotal: 4m 30s\tremaining: 1m 7s\n",
      "200:\tlearn: 0.0175636\ttotal: 4m 31s\tremaining: 1m 6s\n",
      "201:\tlearn: 0.0175028\ttotal: 4m 32s\tremaining: 1m 4s\n",
      "202:\tlearn: 0.0173709\ttotal: 4m 34s\tremaining: 1m 3s\n",
      "203:\tlearn: 0.0172838\ttotal: 4m 35s\tremaining: 1m 2s\n",
      "204:\tlearn: 0.0171496\ttotal: 4m 37s\tremaining: 1m\n",
      "205:\tlearn: 0.0170909\ttotal: 4m 38s\tremaining: 59.5s\n",
      "206:\tlearn: 0.0169761\ttotal: 4m 39s\tremaining: 58.1s\n",
      "207:\tlearn: 0.0168091\ttotal: 4m 41s\tremaining: 56.8s\n",
      "208:\tlearn: 0.0166798\ttotal: 4m 42s\tremaining: 55.4s\n",
      "209:\tlearn: 0.0165918\ttotal: 4m 43s\tremaining: 54.1s\n",
      "210:\tlearn: 0.0164566\ttotal: 4m 45s\tremaining: 52.7s\n",
      "211:\tlearn: 0.0163503\ttotal: 4m 46s\tremaining: 51.4s\n",
      "212:\tlearn: 0.0162658\ttotal: 4m 47s\tremaining: 50s\n",
      "213:\tlearn: 0.0161850\ttotal: 4m 49s\tremaining: 48.6s\n",
      "214:\tlearn: 0.0160757\ttotal: 4m 50s\tremaining: 47.3s\n",
      "215:\tlearn: 0.0159521\ttotal: 4m 51s\tremaining: 45.9s\n",
      "216:\tlearn: 0.0158644\ttotal: 4m 53s\tremaining: 44.6s\n",
      "217:\tlearn: 0.0157901\ttotal: 4m 54s\tremaining: 43.2s\n",
      "218:\tlearn: 0.0157205\ttotal: 4m 56s\tremaining: 41.9s\n",
      "219:\tlearn: 0.0156604\ttotal: 4m 57s\tremaining: 40.6s\n",
      "220:\tlearn: 0.0155782\ttotal: 4m 58s\tremaining: 39.2s\n",
      "221:\tlearn: 0.0154885\ttotal: 5m\tremaining: 37.9s\n",
      "222:\tlearn: 0.0154334\ttotal: 5m 1s\tremaining: 36.5s\n",
      "223:\tlearn: 0.0153619\ttotal: 5m 2s\tremaining: 35.2s\n",
      "224:\tlearn: 0.0152859\ttotal: 5m 4s\tremaining: 33.8s\n",
      "225:\tlearn: 0.0151504\ttotal: 5m 5s\tremaining: 32.5s\n",
      "226:\tlearn: 0.0150318\ttotal: 5m 6s\tremaining: 31.1s\n",
      "227:\tlearn: 0.0149756\ttotal: 5m 8s\tremaining: 29.7s\n",
      "228:\tlearn: 0.0148085\ttotal: 5m 9s\tremaining: 28.4s\n",
      "229:\tlearn: 0.0146716\ttotal: 5m 11s\tremaining: 27s\n",
      "230:\tlearn: 0.0146171\ttotal: 5m 12s\tremaining: 25.7s\n",
      "231:\tlearn: 0.0145597\ttotal: 5m 13s\tremaining: 24.3s\n",
      "232:\tlearn: 0.0144103\ttotal: 5m 15s\tremaining: 23s\n",
      "233:\tlearn: 0.0143530\ttotal: 5m 16s\tremaining: 21.6s\n",
      "234:\tlearn: 0.0142864\ttotal: 5m 17s\tremaining: 20.3s\n",
      "235:\tlearn: 0.0142323\ttotal: 5m 19s\tremaining: 18.9s\n",
      "236:\tlearn: 0.0141433\ttotal: 5m 20s\tremaining: 17.6s\n",
      "237:\tlearn: 0.0140670\ttotal: 5m 21s\tremaining: 16.2s\n",
      "238:\tlearn: 0.0140160\ttotal: 5m 23s\tremaining: 14.9s\n",
      "239:\tlearn: 0.0139361\ttotal: 5m 24s\tremaining: 13.5s\n",
      "240:\tlearn: 0.0138681\ttotal: 5m 25s\tremaining: 12.2s\n",
      "241:\tlearn: 0.0137938\ttotal: 5m 27s\tremaining: 10.8s\n",
      "242:\tlearn: 0.0137199\ttotal: 5m 28s\tremaining: 9.46s\n",
      "243:\tlearn: 0.0136767\ttotal: 5m 29s\tremaining: 8.11s\n",
      "244:\tlearn: 0.0136030\ttotal: 5m 31s\tremaining: 6.76s\n",
      "245:\tlearn: 0.0135598\ttotal: 5m 32s\tremaining: 5.41s\n",
      "246:\tlearn: 0.0134883\ttotal: 5m 34s\tremaining: 4.06s\n",
      "247:\tlearn: 0.0134324\ttotal: 5m 35s\tremaining: 2.7s\n",
      "248:\tlearn: 0.0133650\ttotal: 5m 37s\tremaining: 1.35s\n",
      "249:\tlearn: 0.0133092\ttotal: 5m 38s\tremaining: 0us\n"
     ]
    },
    {
     "data": {
      "text/plain": [
       "<catboost.core.CatBoostClassifier at 0x24380034f48>"
      ]
     },
     "execution_count": 57,
     "metadata": {},
     "output_type": "execute_result"
    }
   ],
   "source": [
    "model_catboost.fit(train_dataset)"
   ]
  },
  {
   "cell_type": "code",
   "execution_count": 58,
   "metadata": {},
   "outputs": [
    {
     "data": {
      "text/plain": [
       "1.0"
      ]
     },
     "execution_count": 58,
     "metadata": {},
     "output_type": "execute_result"
    }
   ],
   "source": [
    "model_catboost.score(train_dataset)"
   ]
  },
  {
   "cell_type": "code",
   "execution_count": 59,
   "metadata": {},
   "outputs": [
    {
     "data": {
      "text/plain": [
       "0.9787234042553191"
      ]
     },
     "execution_count": 59,
     "metadata": {},
     "output_type": "execute_result"
    }
   ],
   "source": [
    "model_catboost.score(test_dataset)"
   ]
  },
  {
   "cell_type": "code",
   "execution_count": null,
   "metadata": {},
   "outputs": [],
   "source": []
  }
 ],
 "metadata": {
  "kernelspec": {
   "display_name": "Python 3",
   "language": "python",
   "name": "python3"
  },
  "language_info": {
   "codemirror_mode": {
    "name": "ipython",
    "version": 3
   },
   "file_extension": ".py",
   "mimetype": "text/x-python",
   "name": "python",
   "nbconvert_exporter": "python",
   "pygments_lexer": "ipython3",
   "version": "3.7.7"
  }
 },
 "nbformat": 4,
 "nbformat_minor": 4
}
