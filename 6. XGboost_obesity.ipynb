{
  "nbformat": 4,
  "nbformat_minor": 0,
  "metadata": {
    "kernelspec": {
      "display_name": "Python 3",
      "language": "python",
      "name": "python3"
    },
    "language_info": {
      "codemirror_mode": {
        "name": "ipython",
        "version": 3
      },
      "file_extension": ".py",
      "mimetype": "text/x-python",
      "name": "python",
      "nbconvert_exporter": "python",
      "pygments_lexer": "ipython3",
      "version": "3.7.7"
    },
    "colab": {
      "name": "XGboost.ipynb",
      "provenance": []
    }
  },
  "cells": [
    {
      "cell_type": "code",
      "metadata": {
        "id": "SdcykDivv4Iw"
      },
      "source": [
        "import pandas as pd\n",
        "import numpy as np\n",
        "import os"
      ],
      "execution_count": null,
      "outputs": []
    },
    {
      "cell_type": "code",
      "metadata": {
        "id": "Qs58N3YUv4I0"
      },
      "source": [
        "import pickle\n",
        "import pandas as pd\n",
        "import numpy as np\n",
        "import seaborn as sns\n",
        "import matplotlib.pyplot as plt\n",
        "from sklearn.tree import DecisionTreeRegressor\n",
        "from sklearn.ensemble import RandomForestRegressor\n",
        "from sklearn.model_selection import train_test_split\n",
        "from sklearn.metrics import mean_squared_error\n",
        "from sklearn.base import clone\n",
        "from sklearn.tree import DecisionTreeClassifier"
      ],
      "execution_count": null,
      "outputs": []
    },
    {
      "cell_type": "markdown",
      "metadata": {
        "id": "hsUb4lUkENYt"
      },
      "source": [
        " **FUTURE ENGINEERING EXPLIACADO EN EL ARCHIVO ANTERIOR**"
      ]
    },
    {
      "cell_type": "code",
      "metadata": {
        "id": "HHkiqhr6v4I0"
      },
      "source": [
        "sns.set_style(style='white')"
      ],
      "execution_count": null,
      "outputs": []
    },
    {
      "cell_type": "code",
      "metadata": {
        "id": "PxUoqHs_v4I0"
      },
      "source": [
        "data=pd.read_csv(\"ObesityDataSet.csv\")"
      ],
      "execution_count": null,
      "outputs": []
    },
    {
      "cell_type": "code",
      "metadata": {
        "colab": {
          "base_uri": "https://localhost:8080/"
        },
        "id": "wiFNajlKv4I3",
        "outputId": "c82a8fae-7215-4bcc-a6e4-f42793faa87e"
      },
      "source": [
        "data.columns"
      ],
      "execution_count": null,
      "outputs": [
        {
          "output_type": "execute_result",
          "data": {
            "text/plain": [
              "Index(['Gender', 'Age', 'Height', 'Weight', 'family_history_with_overweight',\n",
              "       'FAVC', 'FCVC', 'NCP', 'CAEC', 'SMOKE', 'CH2O', 'SCC', 'FAF', 'TUE',\n",
              "       'CALC', 'MTRANS', 'NObeyesdad'],\n",
              "      dtype='object')"
            ]
          },
          "metadata": {
            "tags": []
          },
          "execution_count": 78
        }
      ]
    },
    {
      "cell_type": "code",
      "metadata": {
        "id": "VtLBhBCuv4I4"
      },
      "source": [
        "data[\"CAEC\"]=data[\"CAEC\"].map({\"no\":0,\"Sometimes\":1,\"Frequently\":2,\"Always\":3})"
      ],
      "execution_count": null,
      "outputs": []
    },
    {
      "cell_type": "code",
      "metadata": {
        "id": "QTKm4VyGv4I4"
      },
      "source": [
        "data[\"CALC\"]=data[\"CALC\"].map({\"no\":0,\"Sometimes\":1,\"Frequently\":2,\"Always\":3})"
      ],
      "execution_count": null,
      "outputs": []
    },
    {
      "cell_type": "code",
      "metadata": {
        "id": "5kRJltixv4I4"
      },
      "source": [
        "data[\"Gender\"]=data[\"Gender\"].map({\"Female\":0,\"Male\":1})"
      ],
      "execution_count": null,
      "outputs": []
    },
    {
      "cell_type": "code",
      "metadata": {
        "id": "ZVpkc915v4I5"
      },
      "source": [
        "for column in flags:\n",
        "    data[column]=data[column].map({\"yes\":1,\"no\":0})"
      ],
      "execution_count": null,
      "outputs": []
    },
    {
      "cell_type": "code",
      "metadata": {
        "colab": {
          "base_uri": "https://localhost:8080/"
        },
        "id": "TtliRtqfv4I6",
        "outputId": "889f16d8-68d6-402d-9a36-d2fd567c64f3"
      },
      "source": [
        "data[\"NObeyesdad\"].value_counts()"
      ],
      "execution_count": null,
      "outputs": [
        {
          "output_type": "execute_result",
          "data": {
            "text/plain": [
              "Obesity_Type_I         351\n",
              "Obesity_Type_III       324\n",
              "Obesity_Type_II        297\n",
              "Overweight_Level_I     290\n",
              "Overweight_Level_II    290\n",
              "Normal_Weight          287\n",
              "Insufficient_Weight    272\n",
              "Name: NObeyesdad, dtype: int64"
            ]
          },
          "metadata": {
            "tags": []
          },
          "execution_count": 87
        }
      ]
    },
    {
      "cell_type": "code",
      "metadata": {
        "id": "QFIVyZDZv4I6"
      },
      "source": [
        "data[\"NObeyesdad_num\"]=data[\"NObeyesdad\"].map({\"Insufficient_Weight\":0,\"Normal_Weight\":1,\"Overweight_Level_I\":2,\n",
        "                                           \"Overweight_Level_II\":3,\"Obesity_Type_I\":4,\"Obesity_Type_II\":5,\n",
        "                                           \"Obesity_Type_III\":6})"
      ],
      "execution_count": null,
      "outputs": []
    },
    {
      "cell_type": "code",
      "metadata": {
        "id": "6Sj51EA4v4I6"
      },
      "source": [
        "data[\"BMI\"]=data[\"Weight\"]/(data[\"Height\"]*data[\"Height\"])"
      ],
      "execution_count": null,
      "outputs": []
    },
    {
      "cell_type": "code",
      "metadata": {
        "id": "Ewyhp9zmv4I6"
      },
      "source": [
        "continuous_features_train=data[['Gender', 'Age', 'Height', 'Weight','BMI', 'family_history_with_overweight',\n",
        "       'FAVC', 'FCVC', 'NCP', 'CAEC', 'SMOKE', 'CH2O', 'SCC', 'FAF', 'TUE',\n",
        "       'CALC', 'NObeyesdad_num']]"
      ],
      "execution_count": null,
      "outputs": []
    },
    {
      "cell_type": "markdown",
      "metadata": {
        "id": "UyIClpuoEl9T"
      },
      "source": [
        "**XGBOOST**"
      ]
    },
    {
      "cell_type": "code",
      "metadata": {
        "id": "0B1emdWHv4I_"
      },
      "source": [
        "import xgboost as xgb\n",
        "from xgboost import XGBClassifier\n",
        "from sklearn.model_selection import train_test_split"
      ],
      "execution_count": null,
      "outputs": []
    },
    {
      "cell_type": "code",
      "metadata": {
        "id": "UbpAqL4-9g7M"
      },
      "source": [
        "data=data.drop(\"MTRANS\", axis=1)"
      ],
      "execution_count": null,
      "outputs": []
    },
    {
      "cell_type": "code",
      "metadata": {
        "id": "O92Vb_uW9Kf7"
      },
      "source": [
        "x = data.drop(\"NObeyesdad\", axis=1)\n",
        "\n",
        "y = data[\"NObeyesdad\"]"
      ],
      "execution_count": null,
      "outputs": []
    },
    {
      "cell_type": "markdown",
      "metadata": {
        "id": "h4wKyuf_Epvt"
      },
      "source": [
        "SE CREA LAS DATAS X, Y para crear los train y test para entrenar"
      ]
    },
    {
      "cell_type": "code",
      "metadata": {
        "id": "msLeJ99R89ZU"
      },
      "source": [
        "x_train, x_test, y_train, y_test = train_test_split(x, y, test_size=0.2, random_state=42,stratify=y)"
      ],
      "execution_count": null,
      "outputs": []
    },
    {
      "cell_type": "code",
      "metadata": {
        "colab": {
          "base_uri": "https://localhost:8080/"
        },
        "id": "ciK1nSMq8TwJ",
        "outputId": "e5bca017-ca32-4216-ae85-6a90f06df963"
      },
      "source": [
        "XGB_best_model=XGBClassifier(booster= 'gbtree',eta= 0.3,gamma= 0.01,learning_rate= 0.15,max_depth= 10,\n",
        "                             min_child_weight= 20,n_estimators= 200,random_state=42)\n",
        "XGB_best_model.fit(x_train, y_train)"
      ],
      "execution_count": null,
      "outputs": [
        {
          "output_type": "execute_result",
          "data": {
            "text/plain": [
              "XGBClassifier(base_score=0.5, booster='gbtree', colsample_bylevel=1,\n",
              "              colsample_bynode=1, colsample_bytree=1, eta=0.3, gamma=0.01,\n",
              "              learning_rate=0.15, max_delta_step=0, max_depth=10,\n",
              "              min_child_weight=20, missing=None, n_estimators=200, n_jobs=1,\n",
              "              nthread=None, objective='multi:softprob', random_state=42,\n",
              "              reg_alpha=0, reg_lambda=1, scale_pos_weight=1, seed=None,\n",
              "              silent=None, subsample=1, verbosity=1)"
            ]
          },
          "metadata": {
            "tags": []
          },
          "execution_count": 146
        }
      ]
    },
    {
      "cell_type": "code",
      "metadata": {
        "colab": {
          "base_uri": "https://localhost:8080/"
        },
        "id": "QtencsRj8NsN",
        "outputId": "09104205-c9c8-4a23-dda6-ee66f2cbc457"
      },
      "source": [
        "XGB_best_model.score(x_train,y_train)"
      ],
      "execution_count": null,
      "outputs": [
        {
          "output_type": "execute_result",
          "data": {
            "text/plain": [
              "1.0"
            ]
          },
          "metadata": {
            "tags": []
          },
          "execution_count": 147
        }
      ]
    },
    {
      "cell_type": "code",
      "metadata": {
        "colab": {
          "base_uri": "https://localhost:8080/"
        },
        "id": "nu190UzC9w6M",
        "outputId": "cf03015a-4212-4c63-f5a8-43377d008ce6"
      },
      "source": [
        "XGB_best_model.score(x_test,y_test)"
      ],
      "execution_count": null,
      "outputs": [
        {
          "output_type": "execute_result",
          "data": {
            "text/plain": [
              "1.0"
            ]
          },
          "metadata": {
            "tags": []
          },
          "execution_count": 148
        }
      ]
    },
    {
      "cell_type": "code",
      "metadata": {
        "colab": {
          "base_uri": "https://localhost:8080/",
          "height": 223
        },
        "id": "4U4ZrPf0IeQ0",
        "outputId": "d6947bc0-0f4a-47dc-b99b-60fa267b5477"
      },
      "source": [
        "x_test.head()"
      ],
      "execution_count": null,
      "outputs": [
        {
          "output_type": "execute_result",
          "data": {
            "text/html": [
              "<div>\n",
              "<style scoped>\n",
              "    .dataframe tbody tr th:only-of-type {\n",
              "        vertical-align: middle;\n",
              "    }\n",
              "\n",
              "    .dataframe tbody tr th {\n",
              "        vertical-align: top;\n",
              "    }\n",
              "\n",
              "    .dataframe thead th {\n",
              "        text-align: right;\n",
              "    }\n",
              "</style>\n",
              "<table border=\"1\" class=\"dataframe\">\n",
              "  <thead>\n",
              "    <tr style=\"text-align: right;\">\n",
              "      <th></th>\n",
              "      <th>Gender</th>\n",
              "      <th>Age</th>\n",
              "      <th>Height</th>\n",
              "      <th>Weight</th>\n",
              "      <th>family_history_with_overweight</th>\n",
              "      <th>FAVC</th>\n",
              "      <th>FCVC</th>\n",
              "      <th>NCP</th>\n",
              "      <th>CAEC</th>\n",
              "      <th>SMOKE</th>\n",
              "      <th>CH2O</th>\n",
              "      <th>SCC</th>\n",
              "      <th>FAF</th>\n",
              "      <th>TUE</th>\n",
              "      <th>CALC</th>\n",
              "      <th>NObeyesdad_num</th>\n",
              "      <th>BMI</th>\n",
              "    </tr>\n",
              "  </thead>\n",
              "  <tbody>\n",
              "    <tr>\n",
              "      <th>572</th>\n",
              "      <td>0</td>\n",
              "      <td>19.084967</td>\n",
              "      <td>1.768435</td>\n",
              "      <td>49.597765</td>\n",
              "      <td>0</td>\n",
              "      <td>1</td>\n",
              "      <td>3.000000</td>\n",
              "      <td>3.725797</td>\n",
              "      <td>1</td>\n",
              "      <td>0</td>\n",
              "      <td>1.191401</td>\n",
              "      <td>0</td>\n",
              "      <td>2.000000</td>\n",
              "      <td>1.000000</td>\n",
              "      <td>1</td>\n",
              "      <td>0</td>\n",
              "      <td>15.859296</td>\n",
              "    </tr>\n",
              "    <tr>\n",
              "      <th>370</th>\n",
              "      <td>1</td>\n",
              "      <td>19.000000</td>\n",
              "      <td>1.800000</td>\n",
              "      <td>60.000000</td>\n",
              "      <td>0</td>\n",
              "      <td>1</td>\n",
              "      <td>2.000000</td>\n",
              "      <td>3.000000</td>\n",
              "      <td>1</td>\n",
              "      <td>0</td>\n",
              "      <td>1.000000</td>\n",
              "      <td>0</td>\n",
              "      <td>1.000000</td>\n",
              "      <td>1.000000</td>\n",
              "      <td>0</td>\n",
              "      <td>1</td>\n",
              "      <td>18.518519</td>\n",
              "    </tr>\n",
              "    <tr>\n",
              "      <th>1002</th>\n",
              "      <td>1</td>\n",
              "      <td>24.108711</td>\n",
              "      <td>1.700000</td>\n",
              "      <td>80.761409</td>\n",
              "      <td>1</td>\n",
              "      <td>1</td>\n",
              "      <td>2.000000</td>\n",
              "      <td>3.000000</td>\n",
              "      <td>1</td>\n",
              "      <td>0</td>\n",
              "      <td>2.879402</td>\n",
              "      <td>0</td>\n",
              "      <td>0.000000</td>\n",
              "      <td>0.322405</td>\n",
              "      <td>1</td>\n",
              "      <td>3</td>\n",
              "      <td>27.945124</td>\n",
              "    </tr>\n",
              "    <tr>\n",
              "      <th>1837</th>\n",
              "      <td>0</td>\n",
              "      <td>20.941943</td>\n",
              "      <td>1.812963</td>\n",
              "      <td>138.730619</td>\n",
              "      <td>1</td>\n",
              "      <td>1</td>\n",
              "      <td>3.000000</td>\n",
              "      <td>3.000000</td>\n",
              "      <td>1</td>\n",
              "      <td>0</td>\n",
              "      <td>2.641489</td>\n",
              "      <td>0</td>\n",
              "      <td>0.481555</td>\n",
              "      <td>0.735201</td>\n",
              "      <td>1</td>\n",
              "      <td>6</td>\n",
              "      <td>42.207968</td>\n",
              "    </tr>\n",
              "    <tr>\n",
              "      <th>1724</th>\n",
              "      <td>1</td>\n",
              "      <td>33.293166</td>\n",
              "      <td>1.696412</td>\n",
              "      <td>103.250355</td>\n",
              "      <td>1</td>\n",
              "      <td>1</td>\n",
              "      <td>2.679664</td>\n",
              "      <td>2.415522</td>\n",
              "      <td>1</td>\n",
              "      <td>0</td>\n",
              "      <td>1.000000</td>\n",
              "      <td>0</td>\n",
              "      <td>1.987296</td>\n",
              "      <td>0.000000</td>\n",
              "      <td>0</td>\n",
              "      <td>5</td>\n",
              "      <td>35.878054</td>\n",
              "    </tr>\n",
              "  </tbody>\n",
              "</table>\n",
              "</div>"
            ],
            "text/plain": [
              "      Gender        Age    Height  ...  CALC  NObeyesdad_num        BMI\n",
              "572        0  19.084967  1.768435  ...     1               0  15.859296\n",
              "370        1  19.000000  1.800000  ...     0               1  18.518519\n",
              "1002       1  24.108711  1.700000  ...     1               3  27.945124\n",
              "1837       0  20.941943  1.812963  ...     1               6  42.207968\n",
              "1724       1  33.293166  1.696412  ...     0               5  35.878054\n",
              "\n",
              "[5 rows x 17 columns]"
            ]
          },
          "metadata": {
            "tags": []
          },
          "execution_count": 153
        }
      ]
    },
    {
      "cell_type": "code",
      "metadata": {
        "id": "LYNEyqTXH2AO"
      },
      "source": [
        "predicciones=XGB_best_model.predict_proba(x_train)\n",
        "predicciones_xgb2=[]\n",
        "for value in predicciones:\n",
        "  predicciones_xgb2.append(value[1])\n",
        "\n",
        "predicciones_df=pd.DataFrame({\"NObeyesdad\":predicciones_xgb2})\n",
        "data_final=pd.concat([predicciones_df],axis=1)\n",
        "data_final[[\"NObeyesdad\"]].to_csv(\"submission_prueba_xgb2.csv\",index=False)"
      ],
      "execution_count": null,
      "outputs": []
    },
    {
      "cell_type": "code",
      "metadata": {
        "id": "xXaJhaBCJTfM"
      },
      "source": [
        "predicciones=XGB_best_model.predict_proba(x_train)\n",
        "predicciones_finales=[]\n",
        "for value in predicciones:\n",
        "  predicciones_finales.append(value[1])\n",
        "\n",
        "predicciones_df=pd.DataFrame({\"NObeyesdad\":predicciones_finales})\n",
        "data_final=pd.concat([predicciones_df],axis=1)\n",
        "data_final[[\"NObeyesdad\"]].to_csv(\"submission_prueba_X_G.csv\",index=False)"
      ],
      "execution_count": null,
      "outputs": []
    },
    {
      "cell_type": "code",
      "metadata": {
        "id": "XQ3vHtd1JuYE"
      },
      "source": [
        "\n",
        "predicciones_XG=XGB_best_model.predict_proba(x_train)\n",
        "\n",
        "predicciones_finales_XG=[]\n",
        "\n",
        "for value in predicciones_XG:\n",
        "  predicciones_finales_XG.append(value[1])"
      ],
      "execution_count": null,
      "outputs": []
    },
    {
      "cell_type": "code",
      "metadata": {
        "id": "48-w0YRYI37i"
      },
      "source": [
        "predicciones_finales= np.mean(np.array([ predicciones_finales_XG ]), axis=0 )"
      ],
      "execution_count": null,
      "outputs": []
    },
    {
      "cell_type": "code",
      "metadata": {
        "colab": {
          "base_uri": "https://localhost:8080/"
        },
        "id": "57Kb1cO9K5gH",
        "outputId": "225e9c16-6b01-4417-9678-112c9129cce9"
      },
      "source": [
        "predicciones_finales[:5],predicciones_finales_XG[:5]"
      ],
      "execution_count": null,
      "outputs": [
        {
          "output_type": "execute_result",
          "data": {
            "text/plain": [
              "(array([0.0053456 , 0.96663195, 0.93279785, 0.00505691, 0.01153138],\n",
              "       dtype=float32),\n",
              " [0.005345598, 0.96663195, 0.93279785, 0.0050569084, 0.011531382])"
            ]
          },
          "metadata": {
            "tags": []
          },
          "execution_count": 165
        }
      ]
    }
  ]
}
